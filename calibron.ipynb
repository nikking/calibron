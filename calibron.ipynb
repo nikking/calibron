{
 "cells": [
  {
   "cell_type": "code",
   "execution_count": 9,
   "metadata": {},
   "outputs": [],
   "source": [
    "import numpy as np\n",
    "from numba import jit\n",
    "from copy import copy\n",
    "import progressbar\n",
    "import math"
   ]
  },
  {
   "cell_type": "code",
   "execution_count": 10,
   "metadata": {},
   "outputs": [],
   "source": [
    "CALIBRON_PIECES = [(21, 14),\n",
    "                   (17, 14),\n",
    "                   (21, 18),\n",
    "                   (32, 10),\n",
    "                   (21, 14),\n",
    "                   (10, 7),\n",
    "                   (14, 4),\n",
    "                   (21, 18),\n",
    "                   (28, 6),\n",
    "                   (28, 14),\n",
    "                   (32, 11),\n",
    "                   (28, 7)]"
   ]
  },
  {
   "cell_type": "code",
   "execution_count": 11,
   "metadata": {},
   "outputs": [],
   "source": [
    "WIDTH, HEIGHT = 56, 56\n",
    "LENGTH = len(CALIBRON_PIECES) - 1\n",
    "FACT = {x: math.factorial(x) * 2 ** x for x in range(0, LENGTH + 1)}"
   ]
  },
  {
   "cell_type": "code",
   "execution_count": 32,
   "metadata": {},
   "outputs": [],
   "source": [
    "def newBoard(width, height):\n",
    "        return np.array([[False for i in range(height)] for j in range(width)])       \n",
    "\n",
    "    \n",
    "# @jit(nopython=True)\n",
    "def piece_valid(largest_piece, piece, smallest_side):\n",
    "    return ((piece[0] <= largest_piece[0]) and\n",
    "            (piece[1] <= largest_piece[1]) and \n",
    "            (HEIGHT - position[0] - piece[0] >= smallest_side or HEIGHT - position[0] - piece[0] == 0) and\n",
    "            (WIDTH - position[1] - piece[1] >= smallest_side or WIDTH - position[1] - piece[1] == 0))\n",
    "\n",
    "\n",
    "@jit(nopython=True)\n",
    "def place_piece(board, position, piece):\n",
    "    board[position[1]:position[1] + piece[1],\n",
    "        position[0]:position[0] + piece[0]] = True\n",
    "\n",
    "    \n",
    "@jit(nopython=True)\n",
    "def remove_piece(board, position, piece):\n",
    "    board[position[1]:position[1] + piece[1],\n",
    "        position[0]:position[0] + piece[0]] = False\n",
    "\n",
    "    \n",
    "@jit(nopython=True)\n",
    "def update_position(board, position, width, height):\n",
    "    # first check current row\n",
    "    i = position[1]\n",
    "    for j in range(position[0], width):\n",
    "        if not board[i][j]:\n",
    "            return (j, i)\n",
    "    # then check remaining rows\n",
    "    for i in range(position[1] + 1, height):\n",
    "        for j in range(width):\n",
    "            if not board[i][j]:\n",
    "                return (j, i)\n",
    "\n",
    "\n",
    "@jit(nopython=True)\n",
    "def update_largest_piece(width, height, board, position):\n",
    "    piece_height = height - position[1]\n",
    "    piece_width = 0\n",
    "    for j in range(position[0], width):\n",
    "        if not board[position[1]][j]:\n",
    "            piece_width += 1\n",
    "        else:\n",
    "            break\n",
    "    return (piece_width, piece_height)\n",
    "\n",
    "\n",
    "def display(board) -> None:\n",
    "    for row in board:\n",
    "        for cell in row:\n",
    "            if cell:\n",
    "                print(\" x\", end=\"\")\n",
    "            else:\n",
    "                print(\" _\",end=\"\")\n",
    "        print(\"\")\n",
    "    print()\n",
    "\n",
    "\n",
    "def reverse(piece):\n",
    "    yield(piece)\n",
    "    yield((piece[1], piece[0]))\n",
    "\n",
    "\n",
    "def update_progress(n):\n",
    "    global BAR\n",
    "    global COUNT\n",
    "    COUNT += FACT[n]\n",
    "    if COUNT % 100000 == False:\n",
    "        BAR.update(COUNT)\n",
    "        \n",
    "def is_end(i, length):\n",
    "    return i == length"
   ]
  },
  {
   "cell_type": "code",
   "execution_count": 33,
   "metadata": {},
   "outputs": [],
   "source": [
    "def recurse(i, pieces, board, position):\n",
    "    largest_piece = update_largest_piece(WIDTH, HEIGHT, board, position)\n",
    "    smallest_side = min((min(piece) for piece in pieces[i:LENGTH + 1]))\n",
    "    j = LENGTH\n",
    "    while i <= j:\n",
    "        for piece in reverse(pieces[i]):\n",
    "            if piece_valid(largest_piece, piece, smallest_side):\n",
    "                place_piece(board, position, piece)\n",
    "                if is_end(i, LENGTH):\n",
    "                    return pieces\n",
    "                solution = recurse(i + 1, copy(pieces), board, update_position(board, position, WIDTH, HEIGHT))\n",
    "                if solution:\n",
    "                    return solution\n",
    "                else:\n",
    "                    remove_piece(board, position, piece)\n",
    "            else:   \n",
    "                update_progress(LENGTH - i)\n",
    "        if i != j:\n",
    "            pieces[i], pieces[j] = pieces[j], pieces[i]\n",
    "        j -= 1\n",
    "    return None"
   ]
  },
  {
   "cell_type": "code",
   "execution_count": 34,
   "metadata": {},
   "outputs": [
    {
     "name": "stderr",
     "output_type": "stream",
     "text": [
      "- |               #                         | 60180000000 Elapsed Time: 0:00:06"
     ]
    },
    {
     "name": "stdout",
     "output_type": "stream",
     "text": [
      "[(21, 14), (21, 14), (28, 14), (32, 10), (28, 6), (14, 4), (32, 11), (21, 18), (21, 18), (17, 14), (10, 7), (28, 7)]\n"
     ]
    }
   ],
   "source": [
    "BAR = progressbar.ProgressBar()\n",
    "COUNT = 0\n",
    "solution = recurse(0, CALIBRON_PIECES, newBoard(WIDTH, HEIGHT), (0,0))\n",
    "print(solution)"
   ]
  }
 ],
 "metadata": {
  "kernelspec": {
   "display_name": "Python 3",
   "language": "python",
   "name": "python3"
  },
  "language_info": {
   "codemirror_mode": {
    "name": "ipython",
    "version": 3
   },
   "file_extension": ".py",
   "mimetype": "text/x-python",
   "name": "python",
   "nbconvert_exporter": "python",
   "pygments_lexer": "ipython3",
   "version": "3.6.3"
  }
 },
 "nbformat": 4,
 "nbformat_minor": 2
}
